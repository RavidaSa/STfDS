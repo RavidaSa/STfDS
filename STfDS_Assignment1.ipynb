{
 "cells": [
  {
   "cell_type": "code",
   "execution_count": 1,
   "metadata": {
    "collapsed": true
   },
   "outputs": [],
   "source": [
    "import numpy as np"
   ]
  },
  {
   "cell_type": "markdown",
   "source": [
    "Classes to help me compute GK sketches for Lin n-of-N algorithm\n",
    "Taken from: https://github.com/DataDog/sketches-py/tree/v0.1"
   ],
   "metadata": {
    "collapsed": false
   }
  },
  {
   "cell_type": "code",
   "execution_count": 2,
   "outputs": [],
   "source": [
    "DEFAULT_EPS = 0.01\n",
    "\n",
    "\n",
    "class UnequalEpsilonException(Exception):\n",
    "    pass"
   ],
   "metadata": {
    "collapsed": false,
    "pycharm": {
     "name": "#%%\n"
    }
   }
  },
  {
   "cell_type": "code",
   "execution_count": 3,
   "outputs": [],
   "source": [
    "class Entry(object):\n",
    "\n",
    "    def __init__(self, val, g, delta):\n",
    "        # the value that covers the phi quantile range, subset of original input entries\n",
    "        self.val = val\n",
    "        # number of positions covered by the value\n",
    "        # g(i) = r_min(i) - r_min(i-1)\n",
    "        self.g = g\n",
    "        # delta = r_max(i) - r_min(i)\n",
    "        self.delta = delta\n",
    "\n",
    "    def __repr__(self):\n",
    "        return 'Entry(val={}, g={}, delta={})'.format(self.val, self.g, self.delta)"
   ],
   "metadata": {
    "collapsed": false,
    "pycharm": {
     "name": "#%%\n"
    }
   }
  },
  {
   "cell_type": "code",
   "execution_count": 4,
   "outputs": [],
   "source": [
    "class GKArray(object):\n",
    "\n",
    "    def __init__(self, eps=None):\n",
    "        if eps is None or eps <= 0 or eps >= 1:\n",
    "            self.eps = DEFAULT_EPS\n",
    "        else:\n",
    "            self.eps = eps\n",
    "        self.entries = []\n",
    "        self.incoming = []\n",
    "        self._min = float('+inf')\n",
    "        self._max = float('-inf')\n",
    "        self._count = 0\n",
    "        self._sum = 0\n",
    "\n",
    "    def __repr__(self):\n",
    "        return \"entries: {}, incoming: {}, count: {}, min: {}, max: {}, sum: {}\\n\".format(\n",
    "            self.entries, self.incoming, self._count, self._min, self._max, self._sum)\n",
    "\n",
    "    @property\n",
    "    def name(self):\n",
    "        return 'GKArray'\n",
    "\n",
    "    @property\n",
    "    def num_values(self):\n",
    "        return self._count\n",
    "\n",
    "    @property\n",
    "    def avg(self):\n",
    "        return float(self._sum) / self._count\n",
    "\n",
    "    @property\n",
    "    def sum(self):\n",
    "        return self._sum\n",
    "\n",
    "    def size(self):\n",
    "        if len(self.incoming) > 0:\n",
    "            self.merge_compress()\n",
    "        return len(self.entries)\n",
    "\n",
    "    def add(self, val):\n",
    "        \"\"\" Add a value to the sketch.\n",
    "        \"\"\"\n",
    "        self.incoming.append(val)\n",
    "        self._count += 1\n",
    "        self._sum += val\n",
    "        if val < self._min:\n",
    "            self._min = val\n",
    "        if val > self._max:\n",
    "            self._max = val\n",
    "        if self._count % (int(1.0 / self.eps) + 1) == 0:\n",
    "            self.merge_compress()\n",
    "\n",
    "    def merge_compress(self, entries=[]):\n",
    "        \"\"\" Merge the given entry list into self.entries as well as compressing any values in\n",
    "        self.incoming buffer.\n",
    "\n",
    "        Parameters:\n",
    "            entries: list of Entry\n",
    "        \"\"\"\n",
    "        removal_threshold = np.floor(2.0 * self.eps * (self._count - 1))\n",
    "        incoming = [Entry(val, 1, 0) for val in self.incoming] + [Entry(e.val, e.g, e.delta) for e in entries]\n",
    "        incoming = sorted(incoming, key=lambda x: x.val)\n",
    "\n",
    "        merged = []\n",
    "        i, j = 0, 0\n",
    "        while i < len(incoming) or j < len(self.entries):\n",
    "            if i == len(incoming):\n",
    "                # done with incoming; now only considering entries\n",
    "                if j + 1 < len(self.entries) and \\\n",
    "                        self.entries[j].g + self.entries[j + 1].g + self.entries[j + 1].delta <= removal_threshold:\n",
    "                    self.entries[j + 1].g += self.entries[j].g\n",
    "                else:\n",
    "                    merged.append(self.entries[j])\n",
    "                j += 1\n",
    "            elif j == len(self.entries):\n",
    "                # done with entries; now only considering incoming\n",
    "                if i + 1 < len(incoming) and \\\n",
    "                        incoming[i].g + incoming[i + 1].g + incoming[i + 1].delta <= removal_threshold:\n",
    "                    incoming[i + 1].g += incoming[i].g\n",
    "                else:\n",
    "                    merged.append(incoming[i])\n",
    "                i += 1\n",
    "            elif incoming[i].val < self.entries[j].val:\n",
    "                if incoming[i].g + self.entries[j].g + self.entries[j].delta <= removal_threshold:\n",
    "                    self.entries[j].g += incoming[i].g\n",
    "                else:\n",
    "                    incoming[i].delta = self.entries[j].g + self.entries[j].delta - incoming[i].g\n",
    "                    merged.append(incoming[i])\n",
    "                i += 1\n",
    "            else:\n",
    "                if j + 1 < len(self.entries) and \\\n",
    "                        self.entries[j].g + self.entries[j + 1].g + self.entries[j + 1].delta <= removal_threshold:\n",
    "                    self.entries[j + 1].g += self.entries[j].g\n",
    "                else:\n",
    "                    merged.append(self.entries[j])\n",
    "                j += 1\n",
    "\n",
    "        self.entries = merged\n",
    "        self.incoming = []\n",
    "\n",
    "    def merge(self, sketch):\n",
    "        \"\"\" Merge another GKArray into the current. The two sketches should have the same\n",
    "        epsilon value.\n",
    "\n",
    "        Parameters:\n",
    "            other: GKArray\n",
    "        \"\"\"\n",
    "        if self.eps != sketch.eps:\n",
    "            raise UnequalEpsilonException(\"Cannot merge two GKArrays with different epsilon values\")\n",
    "\n",
    "        if sketch._count == 0:\n",
    "            return\n",
    "\n",
    "        if self._count == 0:\n",
    "            self.entries = [Entry(e.val, e.g, e.delta) for e in sketch.entries]\n",
    "            self.incoming = sketch.incoming[:]\n",
    "            self._min = sketch._min\n",
    "            self._max = sketch._max\n",
    "            self._count = sketch._count\n",
    "            self._sum = sketch._sum\n",
    "            return\n",
    "\n",
    "        entries = []\n",
    "        spread = int(sketch.eps * (sketch._count - 1))\n",
    "        sketch.merge_compress()\n",
    "        g = sketch.entries[0].g + sketch.entries[0].delta - spread - 1\n",
    "        if g > 0:\n",
    "            entries.append(Entry(sketch._min, g, 0))\n",
    "        for i in range(len(sketch.entries) - 1):\n",
    "            g = sketch.entries[i + 1].g + sketch.entries[i + 1].delta - sketch.entries[i].delta\n",
    "            if g > 0:\n",
    "                entries.append(Entry(sketch.entries[i].val, g, 0))\n",
    "        g = spread + 1 - sketch.entries[len(sketch.entries) - 1].delta\n",
    "        if g > 0:\n",
    "            entries.append(Entry(sketch.entries[len(sketch.entries) - 1].val, g, 0))\n",
    "\n",
    "        self._count += sketch._count\n",
    "        self._sum += sketch._sum\n",
    "        self._min = min(self._min, sketch._min)\n",
    "        self._max = max(self._max, sketch._max)\n",
    "\n",
    "        self.merge_compress(entries)\n",
    "\n",
    "    def quantile(self, q):\n",
    "        \"\"\" Return an epsilon-approximate element at quantile q.\n",
    "\n",
    "        Parameters:\n",
    "            q: quantile to query for\n",
    "               0 <= q <= 1\n",
    "        \"\"\"\n",
    "        if q < 0 or q > 1 or self._count == 0:\n",
    "            return np.nan\n",
    "\n",
    "        if len(self.incoming) > 0:\n",
    "            self.merge_compress()\n",
    "\n",
    "        rank = int(q * (self._count - 1) + 1)\n",
    "        spread = int(self.eps * (self._count - 1))\n",
    "        g_sum = 0.0\n",
    "        i = 0\n",
    "        while i < len(self.entries):\n",
    "            g_sum += self.entries[i].g\n",
    "            if g_sum + self.entries[i].delta > rank + spread:\n",
    "                break\n",
    "            i += 1\n",
    "        if i == 0:\n",
    "            return self._min\n",
    "\n",
    "        return self.entries[i - 1].val"
   ],
   "metadata": {
    "collapsed": false,
    "pycharm": {
     "name": "#%%\n"
    }
   }
  },
  {
   "cell_type": "code",
   "execution_count": 5,
   "outputs": [],
   "source": [
    "class Bucket(object):\n",
    "    def __init__(self, timestamp, element, eps):\n",
    "        self.timestamp = timestamp\n",
    "        self.N = 0\n",
    "        self.sketch = GKArray(eps)\n",
    "        self.sketch.add(element)\n"
   ],
   "metadata": {
    "collapsed": false,
    "pycharm": {
     "name": "#%%\n"
    }
   }
  },
  {
   "cell_type": "code",
   "execution_count": 73,
   "outputs": [],
   "source": [
    "import math\n",
    "from copy import deepcopy\n",
    "\n",
    "\n",
    "class nN(object):\n",
    "    def __init__(self, eps, l, N):\n",
    "        self.eps = eps\n",
    "        self.l = l\n",
    "        self.buckets_list = [[]]\n",
    "        self.timestamp = 0\n",
    "        self.levels = 1\n",
    "        self.N = N\n",
    "\n",
    "    def add(self, element):\n",
    "        bucket = Bucket(self.timestamp, element, self.eps)\n",
    "\n",
    "        self.buckets_list[0].append(bucket)\n",
    "\n",
    "        # shuffling\n",
    "        for level_index in range(self.levels):\n",
    "            if len(self.buckets_list[level_index]) > (1 / self.l) + 1:\n",
    "                d1 = self.buckets_list[level_index].pop(0)\n",
    "                self.buckets_list[level_index].pop(0)\n",
    "                if (level_index + 1 == self.levels):\n",
    "                    self.buckets_list.append([])\n",
    "                    self.levels += 1\n",
    "                self.buckets_list[level_index + 1].append(d1)\n",
    "\n",
    "        # check expired buckets\n",
    "\n",
    "        for level_index in range(self.levels):\n",
    "            indexes = []\n",
    "            for b in range(len(self.buckets_list[level_index])):\n",
    "                if (self.N <= self.buckets_list[level_index][b].N):\n",
    "                    indexes.append(b)\n",
    "                else:\n",
    "                    # maintain sketches\n",
    "                    if (self.timestamp != self.buckets_list[level_index][b].timestamp):\n",
    "                        self.buckets_list[level_index][b].sketch.add(element)\n",
    "                        self.buckets_list[level_index][b].N += 1\n",
    "            for ind in indexes:\n",
    "                self.buckets_list[level_index].pop(ind)\n",
    "\n",
    "        self.timestamp += 1\n",
    "\n",
    "    def lift(self, sketch: GKArray, N: int):\n",
    "\n",
    "        S = deepcopy(sketch)\n",
    "        value = math.floor(0.5 * self.eps * N)\n",
    "        for i in S.entries:\n",
    "            i.delta += value\n",
    "        return S\n",
    "\n",
    "    def query(self, n):\n",
    "        print(self.buckets_list)\n",
    "\n",
    "        for level in range(self.levels, 0, -1):\n",
    "            print(level)\n",
    "            for b in range(len(self.buckets_list[level-1])):\n",
    "                if len(self.buckets_list[level-1][b].sketch.incoming) > 0:\n",
    "                    self.buckets_list[level-1][b].sketch.merge_compress()\n",
    "                if (self.buckets_list[level-1][b].N <= n):\n",
    "                    S_lift = self.lift(self.buckets_list[level-1][b].sketch, n)\n",
    "                    print(S_lift)\n"
   ],
   "metadata": {
    "collapsed": false,
    "pycharm": {
     "name": "#%%\n"
    }
   }
  },
  {
   "cell_type": "code",
   "execution_count": 74,
   "outputs": [],
   "source": [
    "nn = nN(0.1, 0.5,4)\n",
    "nn.add(1)\n",
    "nn.add(2)\n",
    "nn.add(3)\n",
    "nn.add(1)\n",
    "nn.add(2)\n",
    "nn.add(3)\n"
   ],
   "metadata": {
    "collapsed": false,
    "pycharm": {
     "name": "#%%\n"
    }
   }
  },
  {
   "cell_type": "code",
   "execution_count": 75,
   "outputs": [
    {
     "name": "stdout",
     "output_type": "stream",
     "text": [
      "[[<__main__.Bucket object at 0x000001F05C5F0400>, <__main__.Bucket object at 0x000001F05C5F0E80>], [<__main__.Bucket object at 0x000001F05C5F0160>]]\n",
      "2\n",
      "entries: [Entry(val=1, g=1, delta=0), Entry(val=2, g=1, delta=0), Entry(val=3, g=1, delta=0), Entry(val=3, g=1, delta=0)], incoming: [], count: 4, min: 1, max: 3, sum: 9\n",
      "\n",
      "1\n",
      "entries: [Entry(val=2, g=1, delta=0), Entry(val=3, g=1, delta=0)], incoming: [], count: 2, min: 2, max: 3, sum: 5\n",
      "\n",
      "entries: [Entry(val=3, g=1, delta=0)], incoming: [], count: 1, min: 3, max: 3, sum: 3\n",
      "\n"
     ]
    }
   ],
   "source": [
    "nn.query(4)"
   ],
   "metadata": {
    "collapsed": false,
    "pycharm": {
     "name": "#%%\n"
    }
   }
  },
  {
   "cell_type": "code",
   "execution_count": 27,
   "outputs": [
    {
     "data": {
      "text/plain": "[[1]]"
     },
     "execution_count": 27,
     "metadata": {},
     "output_type": "execute_result"
    }
   ],
   "source": [],
   "metadata": {
    "collapsed": false,
    "pycharm": {
     "name": "#%%\n"
    }
   }
  }
 ],
 "metadata": {
  "kernelspec": {
   "display_name": "Python 3",
   "language": "python",
   "name": "python3"
  },
  "language_info": {
   "codemirror_mode": {
    "name": "ipython",
    "version": 2
   },
   "file_extension": ".py",
   "mimetype": "text/x-python",
   "name": "python",
   "nbconvert_exporter": "python",
   "pygments_lexer": "ipython2",
   "version": "2.7.6"
  }
 },
 "nbformat": 4,
 "nbformat_minor": 0
}